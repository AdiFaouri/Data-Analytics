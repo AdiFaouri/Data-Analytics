{
  "nbformat": 4,
  "nbformat_minor": 0,
  "metadata": {
    "colab": {
      "provenance": []
    },
    "kernelspec": {
      "name": "python3",
      "display_name": "Python 3"
    },
    "language_info": {
      "name": "python"
    }
  },
  "cells": [
    {
      "cell_type": "code",
      "execution_count": 1,
      "metadata": {
        "colab": {
          "base_uri": "https://localhost:8080/"
        },
        "id": "wA57OuW-6Ftz",
        "outputId": "27e89eaa-ed64-4212-9478-0a81fbd3edf6"
      },
      "outputs": [
        {
          "output_type": "stream",
          "name": "stdout",
          "text": [
            "Random Forest Accuracy: 88.75%\n"
          ]
        }
      ],
      "source": [
        "# 1. استيراد المكتبات\n",
        "import pandas as pd\n",
        "from sklearn.model_selection import train_test_split\n",
        "from sklearn.preprocessing import StandardScaler\n",
        "from sklearn.ensemble import RandomForestClassifier\n",
        "from sklearn.metrics import accuracy_score\n",
        "\n",
        "# 2. تحميل البيانات\n",
        "df = pd.read_csv(\"Social_Network_Ads (Assignment 1).csv\")\n",
        "\n",
        "# 3. المعالجة المسبقة\n",
        "df.drop(\"User ID\", axis=1, inplace=True)\n",
        "df[\"Gender\"] = df[\"Gender\"].map({\"Male\": 1, \"Female\": 0})\n",
        "\n",
        "# 4. تجهيز المتغيرات\n",
        "X = df.drop(\"Purchased\", axis=1)\n",
        "y = df[\"Purchased\"]\n",
        "\n",
        "# 5. مقياس الميزات (Feature Scaling)\n",
        "scaler = StandardScaler()\n",
        "X_scaled = scaler.fit_transform(X)\n",
        "\n",
        "# 6. تقسيم البيانات إلى تدريب واختبار\n",
        "X_train, X_test, y_train, y_test = train_test_split(X_scaled, y, test_size=0.2, random_state=42)\n",
        "\n",
        "# 7. تدريب نموذج Random Forest\n",
        "rf_model = RandomForestClassifier(random_state=42)\n",
        "rf_model.fit(X_train, y_train)\n",
        "\n",
        "# 8. التنبؤ وتقييم الدقة\n",
        "y_pred = rf_model.predict(X_test)\n",
        "accuracy = accuracy_score(y_test, y_pred)\n",
        "print(f\"Random Forest Accuracy: {accuracy * 100:.2f}%\")\n"
      ]
    }
  ]
}