{
  "nbformat": 4,
  "nbformat_minor": 0,
  "metadata": {
    "colab": {
      "provenance": []
    },
    "kernelspec": {
      "name": "python3",
      "display_name": "Python 3"
    },
    "language_info": {
      "name": "python"
    }
  },
  "cells": [
    {
      "cell_type": "code",
      "source": [
        "import pandas as pd\n",
        "\n",
        "# تحميل مجموعة البيانات\n",
        "df = pd.read_csv('Social_Network_Ads (Assignment 1).csv')\n",
        "\n",
        "# عرض أول 5 صفوف من مجموعة البيانات\n",
        "print(\"First 5 rows of the dataset:\")\n",
        "print(df.head())\n",
        "\n",
        "# عرض معلومات حول مجموعة البيانات (أنواع البيانات، القيم المفقودة)\n",
        "print(\"\\nInformation about the dataset:\")\n",
        "print(df.info())"
      ],
      "metadata": {
        "colab": {
          "base_uri": "https://localhost:8080/"
        },
        "collapsed": true,
        "id": "CZNLLOGOZtma",
        "outputId": "4a6921a8-e912-4b41-e45f-465c4e6ac526"
      },
      "execution_count": 1,
      "outputs": [
        {
          "output_type": "stream",
          "name": "stdout",
          "text": [
            "First 5 rows of the dataset:\n",
            "    User ID  Gender  Age  EstimatedSalary  Purchased\n",
            "0  15624510    Male   19            19000          0\n",
            "1  15810944    Male   35            20000          0\n",
            "2  15668575  Female   26            43000          0\n",
            "3  15603246  Female   27            57000          0\n",
            "4  15804002    Male   19            76000          0\n",
            "\n",
            "Information about the dataset:\n",
            "<class 'pandas.core.frame.DataFrame'>\n",
            "RangeIndex: 400 entries, 0 to 399\n",
            "Data columns (total 5 columns):\n",
            " #   Column           Non-Null Count  Dtype \n",
            "---  ------           --------------  ----- \n",
            " 0   User ID          400 non-null    int64 \n",
            " 1   Gender           400 non-null    object\n",
            " 2   Age              400 non-null    int64 \n",
            " 3   EstimatedSalary  400 non-null    int64 \n",
            " 4   Purchased        400 non-null    int64 \n",
            "dtypes: int64(4), object(1)\n",
            "memory usage: 15.8+ KB\n",
            "None\n"
          ]
        }
      ]
    },
    {
      "cell_type": "code",
      "source": [
        "from sklearn.model_selection import train_test_split\n",
        "from sklearn.preprocessing import StandardScaler\n",
        "\n",
        "# 1. إزالة عمود 'User ID'\n",
        "df = df.drop('User ID', axis=1)\n",
        "print(\"\\nDataFrame after removing 'User ID' column:\")\n",
        "print(df.head())\n",
        "\n",
        "# 2. ترميز عمود 'Gender'\n",
        "# استخدام map لترميز 'Male' إلى 1 و 'Female' إلى 0\n",
        "df['Gender'] = df['Gender'].map({'Male': 1, 'Female': 0})\n",
        "print(\"\\nDataFrame after encoding 'Gender' column:\")\n",
        "print(df.head())\n",
        "\n",
        "# تعريف الميزات (X) والهدف (y)\n",
        "X = df.drop('Purchased', axis=1) # الميزات هي Gender, Age, EstimatedSalary\n",
        "y = df['Purchased'] # الهدف هو Purchased\n",
        "\n",
        "# 3. تحجيم الميزات\n",
        "scaler = StandardScaler()\n",
        "# تحديد الأعمدة الرقمية فقط للتحجيم، باستثناء عمود 'Gender' الذي تم ترميزه بالفعل.\n",
        "# عمود 'Gender' لا يحتاج إلى تحجيم لأنه ميزة فئوية ثنائية الآن.\n",
        "X[['Age', 'EstimatedSalary']] = scaler.fit_transform(X[['Age', 'EstimatedSalary']])\n",
        "print(\"\\nFeatures after scaling 'Age' and 'EstimatedSalary':\")\n",
        "print(X.head())\n",
        "\n",
        "# تقسيم البيانات إلى مجموعات تدريب (80%) واختبار (20%)\n",
        "X_train, X_test, y_train, y_test = train_test_split(X, y, test_size=0.2, random_state=42)\n",
        "\n",
        "print(f\"\\nTraining set shape: X_train: {X_train.shape}, y_train: {y_train.shape}\")\n",
        "print(f\"Testing set shape: X_test: {X_test.shape}, y_test: {y_test.shape}\")"
      ],
      "metadata": {
        "colab": {
          "base_uri": "https://localhost:8080/"
        },
        "collapsed": true,
        "id": "QRkZcyfPZ1p_",
        "outputId": "01ffc543-708e-405d-859e-f77d5c17ec52"
      },
      "execution_count": 2,
      "outputs": [
        {
          "output_type": "stream",
          "name": "stdout",
          "text": [
            "\n",
            "DataFrame after removing 'User ID' column:\n",
            "   Gender  Age  EstimatedSalary  Purchased\n",
            "0    Male   19            19000          0\n",
            "1    Male   35            20000          0\n",
            "2  Female   26            43000          0\n",
            "3  Female   27            57000          0\n",
            "4    Male   19            76000          0\n",
            "\n",
            "DataFrame after encoding 'Gender' column:\n",
            "   Gender  Age  EstimatedSalary  Purchased\n",
            "0       1   19            19000          0\n",
            "1       1   35            20000          0\n",
            "2       0   26            43000          0\n",
            "3       0   27            57000          0\n",
            "4       1   19            76000          0\n",
            "\n",
            "Features after scaling 'Age' and 'EstimatedSalary':\n",
            "   Gender       Age  EstimatedSalary\n",
            "0       1 -1.781797        -1.490046\n",
            "1       1 -0.253587        -1.460681\n",
            "2       0 -1.113206        -0.785290\n",
            "3       0 -1.017692        -0.374182\n",
            "4       1 -1.781797         0.183751\n",
            "\n",
            "Training set shape: X_train: (320, 3), y_train: (320,)\n",
            "Testing set shape: X_test: (80, 3), y_test: (80,)\n"
          ]
        }
      ]
    },
    {
      "cell_type": "code",
      "source": [
        "from sklearn.svm import SVC\n",
        "from sklearn.metrics import accuracy_score\n",
        "\n",
        "# تهيئة مصنف SVM\n",
        "# استخدام kernel خطي كنقطة بداية. يمكن استكشاف kernels أخرى (مثل 'rbf') أيضًا.\n",
        "svm_model = SVC(kernel='linear', random_state=42)\n",
        "\n",
        "# تدريب نموذج SVM على بيانات التدريب\n",
        "svm_model.fit(X_train, y_train)\n",
        "\n",
        "# إجراء التنبؤات على مجموعة الاختبار\n",
        "y_pred = svm_model.predict(X_test)\n",
        "\n",
        "# تقييم أداء النموذج باستخدام الدقة\n",
        "accuracy = accuracy_score(y_test, y_pred)\n",
        "\n",
        "print(f\"\\nAccuracy of the SVM model: {accuracy:.4f}\")"
      ],
      "metadata": {
        "colab": {
          "base_uri": "https://localhost:8080/"
        },
        "id": "GN5R4MdQZ8au",
        "outputId": "dc271b29-1955-4a6d-c5e3-ba0dd420d830"
      },
      "execution_count": 3,
      "outputs": [
        {
          "output_type": "stream",
          "name": "stdout",
          "text": [
            "\n",
            "Accuracy of the SVM model: 0.8625\n"
          ]
        }
      ]
    }
  ]
}