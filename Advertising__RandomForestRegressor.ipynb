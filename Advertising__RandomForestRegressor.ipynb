{
  "nbformat": 4,
  "nbformat_minor": 0,
  "metadata": {
    "colab": {
      "provenance": []
    },
    "kernelspec": {
      "name": "python3",
      "display_name": "Python 3"
    },
    "language_info": {
      "name": "python"
    }
  },
  "cells": [
    {
      "cell_type": "code",
      "execution_count": 1,
      "metadata": {
        "colab": {
          "base_uri": "https://localhost:8080/"
        },
        "id": "UBBQhVLqgLHh",
        "outputId": "856a0e86-8d60-456f-d8da-b5ada4515d5e"
      },
      "outputs": [
        {
          "output_type": "stream",
          "name": "stdout",
          "text": [
            "Training set shape: X_train: (160, 3), y_train: (160,)\n",
            "Testing set shape: X_test: (40, 3), y_test: (40,)\n"
          ]
        }
      ],
      "source": [
        "import pandas as pd\n",
        "from sklearn.model_selection import train_test_split\n",
        "from sklearn.ensemble import RandomForestRegressor\n",
        "from sklearn.metrics import mean_squared_error, mean_absolute_error, r2_score\n",
        "\n",
        "# تحميل مجموعة البيانات\n",
        "df_ad = pd.read_csv('Advertising.csv')\n",
        "\n",
        "# إزالة العمود 'Unnamed: 0' لأنه عمود فهرس غير ذي صلة\n",
        "df_ad = df_ad.drop('Unnamed: 0', axis=1)\n",
        "\n",
        "# تعريف الميزات (X) والهدف (y)\n",
        "X = df_ad[['TV', 'Radio', 'Newspaper']] # المتغيرات المستقلة\n",
        "y = df_ad['Sales'] # المتغير التابع\n",
        "\n",
        "# تقسيم مجموعة البيانات إلى مجموعات تدريب (80%) واختبار (20%)\n",
        "X_train, X_test, y_train, y_test = train_test_split(X, y, test_size=0.2, random_state=42)\n",
        "\n",
        "print(f\"Training set shape: X_train: {X_train.shape}, y_train: {y_train.shape}\")\n",
        "print(f\"Testing set shape: X_test: {X_test.shape}, y_test: {y_test.shape}\")"
      ]
    },
    {
      "cell_type": "code",
      "source": [
        "# بناء وتدريب نموذج الانحدار العشوائي\n",
        "# باستخدام المعلمات الافتراضية للتبسيط، ولكن يمكن ضبط هذه المعلمات لتحسين الأداء.\n",
        "rf_model = RandomForestRegressor(random_state=42)\n",
        "rf_model.fit(X_train, y_train)\n",
        "\n",
        "# إجراء التنبؤات على مجموعة الاختبار\n",
        "y_pred_rf = rf_model.predict(X_test)\n",
        "\n",
        "# تقييم أداء نموذج الانحدار العشوائي\n",
        "mse_rf = mean_squared_error(y_test, y_pred_rf)\n",
        "mae_rf = mean_absolute_error(y_test, y_pred_rf)\n",
        "r2_rf = r2_score(y_test, y_pred_rf)\n",
        "\n",
        "print(f\"\\nRandom Forest Model Evaluation Metrics:\")\n",
        "print(f\"Mean Squared Error (MSE): {mse_rf:.4f}\")\n",
        "print(f\"Mean Absolute Error (MAE): {mae_rf:.4f}\")\n",
        "print(f\"R-squared Score (R2): {r2_rf:.4f}\")"
      ],
      "metadata": {
        "colab": {
          "base_uri": "https://localhost:8080/"
        },
        "id": "XmsSAqXigX3A",
        "outputId": "c64d72df-ed8a-4ed4-dca7-2491bfd9aef3"
      },
      "execution_count": 2,
      "outputs": [
        {
          "output_type": "stream",
          "name": "stdout",
          "text": [
            "\n",
            "Random Forest Model Evaluation Metrics:\n",
            "Mean Squared Error (MSE): 0.5907\n",
            "Mean Absolute Error (MAE): 0.6201\n",
            "R-squared Score (R2): 0.9813\n"
          ]
        }
      ]
    },
    {
      "cell_type": "markdown",
      "source": [
        "من المقارنة، يتضح أن نموذج الانحدار العشوائي يتفوق بشكل كبير على نموذج الانحدار الخطي في هذه الحالة:\n",
        "\n",
        "MSE و MAE: قيم\n",
        "MSE و MAE لنموذج الانحدار العشوائي أقل بكثير من الانحدار الخطي، مما يشير إلى أن متوسط الأخطاء في تنبؤات الانحدار العشوائي أقل بشكل ملحوظ.\n",
        "R2 Score: قيمة\n",
        " لنموذج الانحدار العشوائي (0.9813) أعلى بكثير من الانحدار الخطي (0.8994). هذا يعني أن نموذج الانحدار العشوائي يفسر حوالي 98.13% من التباين في مبيعات الإعلانات، مقارنة بـ 89.94% للانحدار الخطي. يشير هذا إلى أن نموذج الانحدار العشوائي يتناسب بشكل أفضل مع البيانات ولديه قدرة تنبؤية أعلى.\n",
        "بشكل عام، يعتبر الانحدار العشوائي خيارًا ممتازًا لهذه المشكلة نظرًا لقدرته على التعامل مع العلاقات غير الخطية وتعزيز الأداء من خلال تجميع أشجار القرار."
      ],
      "metadata": {
        "id": "GXUC9s-mgsU0"
      }
    }
  ]
}